{
 "cells": [
  {
   "cell_type": "code",
   "execution_count": 24,
   "metadata": {
    "collapsed": true
   },
   "outputs": [],
   "source": [
    "import itertools\n",
    "from functools import partial\n",
    "import numpy as np\n",
    "import scipy.stats\n",
    "import seaborn\n",
    "import hyperopt\n",
    "from hyperopt import hp\n",
    "from sklearn import ensemble\n",
    "from sklearn.gaussian_process import GaussianProcess\n",
    "import contextlib\n",
    "import time"
   ]
  },
  {
   "cell_type": "code",
   "execution_count": 3,
   "metadata": {
    "collapsed": false
   },
   "outputs": [
    {
     "name": "stdout",
     "output_type": "stream",
     "text": [
      "Populating the interactive namespace from numpy and matplotlib\n"
     ]
    }
   ],
   "source": [
    "%pylab inline"
   ]
  },
  {
   "cell_type": "markdown",
   "metadata": {},
   "source": [
    "# A Primer\n",
    "\n",
    "### Finding Hyperparameters\n",
    "\n",
    "[Grid Search?](http://scikit-learn.org/stable/modules/grid_search.html)\n",
    "\n",
    "```python\n",
    "param_grid = [\n",
    "  {'C': [1, 10, 100, 1000], 'kernel': ['linear']},\n",
    "  {'C': [1, 10, 100, 1000], 'gamma': [0.001, 0.0001], 'kernel': ['rbf']},\n",
    " ]\n",
    "```\n",
    "\n",
    "Scales exponentially in number of hyperparameters!\n",
    "\n",
    "### Random Search > Grid search\n",
    "\n",
    "[Random Search for Hyper-Parameter Optimization](http://www.jmlr.org/papers/volume13/bergstra12a/bergstra12a.pdf)\n",
    "\n",
    "![random search](./random_search.png)\n",
    "\n",
    "Random searching is pretty \"stupid\" though...\n",
    "\n",
    "### Can we do better?\n",
    "\n",
    "[Sequential Model-Based Optimization for General Algorithm Configuration](http://www.cs.ubc.ca/~hutter/papers/11-LION5-SMAC.pdf)\n",
    "\n",
    "[Hyperopt: A Python Library for Optimizing the\n",
    "Hyperparameters of Machine Learning Algorithms](http://conference.scipy.org/proceedings/scipy2013/pdfs/bergstra_hyperopt.pdf)"
   ]
  },
  {
   "cell_type": "code",
   "execution_count": 4,
   "metadata": {
    "collapsed": true
   },
   "outputs": [],
   "source": [
    "def smbo(generator_fn,\n",
    "         score_fn,\n",
    "         evaluation_fn,\n",
    "         num_dims,\n",
    "         num_initial_points=10,\n",
    "         num_iter=200,\n",
    "         num_generated=10000):\n",
    "    \"\"\"\n",
    "    general sequential model based optimization to minimize the result\n",
    "    of some presumably expensive function\n",
    "\n",
    "    generator_fn:\n",
    "    function that takes in the algorithm's history (X and y) and generates a\n",
    "    number of candidates\n",
    "\n",
    "    score_fn:\n",
    "    function that scores candidates given the algorithm's history\n",
    "\n",
    "    evaluation_fn:\n",
    "    function that computes the \"true\" score for a chosen candidate\n",
    "    \"\"\"\n",
    "    # evaluated candidates\n",
    "    X = []\n",
    "    # actual scores for the evaluated candidates\n",
    "    y = []\n",
    "    for i in range(num_iter):\n",
    "        if i < num_initial_points:\n",
    "            best_candidate = generator_fn(X, y, 1, num_dims)[0]\n",
    "        else:\n",
    "            candidates = generator_fn(X, y, num_generated, num_dims)\n",
    "            scores = score_fn(X, y, candidates)\n",
    "            argmin = min(range(num_generated), key=lambda x: scores[x])\n",
    "            best_candidate = candidates[argmin]\n",
    "        actual_result = evaluation_fn(best_candidate)\n",
    "        X.append(best_candidate)\n",
    "        y.append(actual_result)\n",
    "    return dict(\n",
    "        X=X,\n",
    "        y=y,\n",
    "        best=min(y),\n",
    "    )\n",
    "\n",
    "\n",
    "def discriminative_smbo(discriminative_model_fn, model_score_fn, **kwargs):\n",
    "    \"\"\"\n",
    "    sequential model based optimization using a discriminative model to\n",
    "    directly predict how good each candidate is\n",
    "\n",
    "    discriminative_model_fn:\n",
    "    function that given X, y, and candidates, predicts mean expected value for\n",
    "    each candidate, as well as the std of the prediction\n",
    "\n",
    "    model_score_fn:\n",
    "    function that takes in the best score so far, candidate prediction means\n",
    "    and variances, and scores each candidate\n",
    "    \"\"\"\n",
    "    def score_fn(X, y, candidates):\n",
    "        means, stds = discriminative_model_fn(X, y, candidates)\n",
    "        return model_score_fn(min(y), means, stds)\n",
    "\n",
    "    return smbo(score_fn=score_fn, **kwargs)\n",
    "\n",
    "\n",
    "def generative_smbo(generative_model_fn, percentile, epsilon=1e-8, **kwargs):\n",
    "    \"\"\"\n",
    "    sequential model based optimization using a generative model to\n",
    "    predict the likelihood that each candidate is in a good or bad region\n",
    "    of the search space\n",
    "\n",
    "    generative_model_fn:\n",
    "    function that given X and candidates, computes the likelihood that each\n",
    "    candidate is from the X distribution\n",
    "\n",
    "    percentile:\n",
    "    scores below this percentile of scores are considered \"good\"\n",
    "    \"\"\"\n",
    "    def score_fn(X, y, candidates):\n",
    "        good_idxs = y < np.percentile(y, percentile)\n",
    "        good_X = X[good_idxs]\n",
    "        bad_X = X[~good_idxs]\n",
    "        # generate probability that each candidate is from good distribution\n",
    "        p_good = generative_model_fn(good_X, candidates)\n",
    "        # generate probability that each candidate is from bad distribution\n",
    "        p_bad = generative_model_fn(bad_X, candidates)\n",
    "        # want to minimize p(bad) / p(good)\n",
    "        return p_bad / (p_good + epsilon)\n",
    "\n",
    "    return smbo(score_fn=score_fn, **kwargs)\n"
   ]
  },
  {
   "cell_type": "markdown",
   "metadata": {},
   "source": [
    "# Setup\n",
    "\n",
    "### Assumptions\n",
    "- search space for each parameter is random uniform between 0 and 1\n",
    "- 200 iterations for each algorithm"
   ]
  },
  {
   "cell_type": "markdown",
   "metadata": {},
   "source": [
    "## utils"
   ]
  },
  {
   "cell_type": "code",
   "execution_count": 5,
   "metadata": {
    "collapsed": true
   },
   "outputs": [],
   "source": [
    "@contextlib.contextmanager\n",
    "def timer(title):\n",
    "    start_time = time.time()\n",
    "    try:\n",
    "        yield\n",
    "    finally:\n",
    "        duration = time.time() - start_time\n",
    "        print(\"%s took %fs\" % (title, duration))"
   ]
  },
  {
   "cell_type": "markdown",
   "metadata": {},
   "source": [
    "## score functions"
   ]
  },
  {
   "cell_type": "code",
   "execution_count": 6,
   "metadata": {
    "collapsed": true
   },
   "outputs": [],
   "source": [
    "def random_score(X, y, candidates):\n",
    "    return np.random.rand(len(candidates))"
   ]
  },
  {
   "cell_type": "markdown",
   "metadata": {},
   "source": [
    "## generator functions"
   ]
  },
  {
   "cell_type": "code",
   "execution_count": 7,
   "metadata": {
    "collapsed": true
   },
   "outputs": [],
   "source": [
    "def random_generator(X, y, num_candidates, num_dims):\n",
    "    return np.random.rand(num_candidates, num_dims)"
   ]
  },
  {
   "cell_type": "markdown",
   "metadata": {},
   "source": [
    "## evaluation functions"
   ]
  },
  {
   "cell_type": "code",
   "execution_count": 8,
   "metadata": {
    "collapsed": false
   },
   "outputs": [
    {
     "data": {
      "text/plain": [
       "0.39788735772973816"
      ]
     },
     "execution_count": 8,
     "metadata": {},
     "output_type": "execute_result"
    }
   ],
   "source": [
    "def branin_hoo(params, noisy=False):\n",
    "    \"\"\"\n",
    "    http://www.sfu.ca/~ssurjano/branin.html\n",
    "    \"\"\"\n",
    "    unscaled_x1, unscaled_x2 = params\n",
    "\n",
    "    x1 = unscaled_x1 * 15 - 5\n",
    "    x2 = unscaled_x2 * 15\n",
    "\n",
    "    a = 1\n",
    "    b = 5.1 / (4 * np.pi ** 2)\n",
    "    c = 5 / np.pi\n",
    "    r = 6\n",
    "    s = 10\n",
    "    t = 1 / (8 * np.pi)\n",
    "\n",
    "    term1 = a * (x2 - b * x1 ** 2 + c * x1 - r) ** 2\n",
    "    term2 = s * (1 - t) * np.cos(x1)\n",
    "    return term1 + term2 + s\n",
    "\n",
    "branin_hoo([(np.pi + 5) / 15, 2.275 / 15])"
   ]
  },
  {
   "cell_type": "code",
   "execution_count": 9,
   "metadata": {
    "collapsed": true
   },
   "outputs": [],
   "source": [
    "def branin_hoo_with_useless_dimensions(total_dims):\n",
    "    assert total_dims > 2\n",
    "\n",
    "    p1 = np.random.randint(total_dims)\n",
    "    p2 = np.random.randint(total_dims)\n",
    "\n",
    "    def inner(params, noisy=False):\n",
    "        return branin_hoo([params[p1], params[p2]], noisy)\n",
    "\n",
    "    return inner"
   ]
  },
  {
   "cell_type": "markdown",
   "metadata": {},
   "source": [
    "## discriminative model functions"
   ]
  },
  {
   "cell_type": "code",
   "execution_count": 10,
   "metadata": {
    "collapsed": true
   },
   "outputs": [],
   "source": [
    "def extra_trees_fn(X, y, candidates):\n",
    "    kwargs = dict(\n",
    "        n_estimators=10,\n",
    "        max_depth=6,\n",
    "        min_samples_split=2,\n",
    "        min_samples_leaf=1,\n",
    "        bootstrap=True,\n",
    "        max_features=\"sqrt\"\n",
    "    )\n",
    "    clf = ensemble.ExtraTreesRegressor(**kwargs)\n",
    "    clf.fit(X, y)\n",
    "    results = [est.predict(candidates) for est in clf.estimators_]\n",
    "    means = np.mean(results, axis=0)\n",
    "    stds = np.std(results, axis=0)\n",
    "    return means, stds"
   ]
  },
  {
   "cell_type": "code",
   "execution_count": 11,
   "metadata": {
    "collapsed": true
   },
   "outputs": [],
   "source": [
    "def random_forest_fn(X, y, candidates):\n",
    "    kwargs = dict(\n",
    "        n_estimators=10,\n",
    "        max_depth=6,\n",
    "        min_samples_split=2,\n",
    "        min_samples_leaf=1,\n",
    "        bootstrap=True,\n",
    "        max_features=\"sqrt\"\n",
    "    )\n",
    "    clf = ensemble.RandomForestRegressor(**kwargs)\n",
    "    clf.fit(X, y)\n",
    "    results = [est.predict(candidates) for est in clf.estimators_]\n",
    "    means = np.mean(results, axis=0)\n",
    "    stds = np.std(results, axis=0)\n",
    "    return means, stds"
   ]
  },
  {
   "cell_type": "code",
   "execution_count": 32,
   "metadata": {
    "collapsed": true
   },
   "outputs": [],
   "source": [
    "# FIXME\n",
    "\n",
    "def gaussian_process_fn(X, y, candidates):\n",
    "    \"\"\"\n",
    "    http://scikit-learn.org/stable/modules/gaussian_process.html\n",
    "    \"\"\"\n",
    "    kwargs = dict(\n",
    "        theta0=1e-2,\n",
    "        thetaL=1e-4,\n",
    "        thetaU=1e-1,\n",
    "    )\n",
    "    clf = GaussianProcess(**kwargs)\n",
    "    clf.fit(X, y)\n",
    "    y_pred, sigma2_pred = clf.predict(candidates, eval_MSE=True)\n",
    "    return y_pred, np.sqrt(sigma2_pred)"
   ]
  },
  {
   "cell_type": "markdown",
   "metadata": {},
   "source": [
    "## model score functions\n",
    "NOTE: higher score = better"
   ]
  },
  {
   "cell_type": "code",
   "execution_count": 12,
   "metadata": {
    "collapsed": true
   },
   "outputs": [],
   "source": [
    "def minimum_mean(f_min, means, stds):\n",
    "    return -means\n",
    "\n",
    "def maximum_uncertainty(f_min, means, stds):\n",
    "    return stds\n",
    "\n",
    "def expected_improvement_1(f_min, means, stds):\n",
    "    \"\"\"\n",
    "    assumes log scale cost\n",
    "    \n",
    "    made for optimizing run time of optimization algorithms\n",
    "    \n",
    "    http://www.cs.ubc.ca/~hutter/papers/11-LION5-SMAC.pdf\n",
    "    \"\"\"\n",
    "    # v is a scaled version of the best score\n",
    "    v = (f_min - means) / stds\n",
    "    term1 = f_min * scipy.stats.norm.cdf(v)\n",
    "    # NOTE (v - stds) seems super wrong to me!\n",
    "    term2 = np.exp(0.5 * stds ** 2 + means) * scipy.stats.norm.cdf(v - stds)\n",
    "    return term1 - term2\n",
    "\n",
    "\n",
    "def expected_improvement_2(f_min, means, stds):\n",
    "    \"\"\"\n",
    "    older version of equation 1\n",
    "    \n",
    "    probably also assumes log scale cost\n",
    "    \n",
    "    http://www.cs.ubc.ca/~hutter/papers/11-LION5-SMAC.pdf\n",
    "    \"\"\"\n",
    "    # ignore f_min and replace with means + stds\n",
    "    return expected_improvement_1(means + stds, means, stds)\n",
    "\n",
    "\n",
    "def expected_improvement_3(f_min, means, stds):\n",
    "    \"\"\"\n",
    "    http://arxiv.org/abs/1208.3719\n",
    "    \"\"\"\n",
    "    u = (f_min - means) / stds\n",
    "    return stds * (u * scipy.stats.norm.cdf(u) + scipy.stats.norm.pdf(u))"
   ]
  },
  {
   "cell_type": "markdown",
   "metadata": {},
   "source": [
    "## plotting"
   ]
  },
  {
   "cell_type": "code",
   "execution_count": 13,
   "metadata": {
    "collapsed": true
   },
   "outputs": [],
   "source": [
    "def plot_bests(results):\n",
    "    lines = []\n",
    "    for name, res in results:\n",
    "        y = res[\"y\"]\n",
    "        label = \"%s=%f\" % (name, min(y))\n",
    "        bests = [np.min(y[:l]) for l in range(1, len(y) + 1)]\n",
    "        line, = pylab.plot(bests, label=label)\n",
    "        lines.append(line)\n",
    "    pylab.legend(handles=lines)"
   ]
  },
  {
   "cell_type": "markdown",
   "metadata": {},
   "source": [
    "## baselines"
   ]
  },
  {
   "cell_type": "code",
   "execution_count": 14,
   "metadata": {
    "collapsed": true
   },
   "outputs": [],
   "source": [
    "def grid_search(evaluation_fn, num_dims, num_iter=200, shuffle=False):\n",
    "    iters_per_dim = int(np.ceil(num_iter ** (1.0 / num_dims)))\n",
    "    X = []\n",
    "    y = []\n",
    "    spaces = [np.linspace(0, 1, iters_per_dim) for _ in range(num_dims)]\n",
    "    if shuffle:\n",
    "        for s in spaces:\n",
    "            np.random.shuffle(s)\n",
    "    for params in itertools.product(*spaces):\n",
    "        y.append(evaluation_fn(params))\n",
    "        X.append(params)\n",
    "        if len(X) == num_iter:\n",
    "            break\n",
    "    return dict(\n",
    "        X=X,\n",
    "        y=y,\n",
    "        best=min(y),\n",
    "    )"
   ]
  },
  {
   "cell_type": "code",
   "execution_count": 15,
   "metadata": {
    "collapsed": false
   },
   "outputs": [],
   "source": [
    "def random_search(evaluation_fn, num_dims, num_iter=200):\n",
    "    return smbo(generator_fn=random_generator,\n",
    "                score_fn=random_score,\n",
    "                evaluation_fn=evaluation_fn,\n",
    "                num_dims=num_dims,\n",
    "                num_iter=num_iter,\n",
    "                num_generated=1)"
   ]
  },
  {
   "cell_type": "code",
   "execution_count": 16,
   "metadata": {
    "collapsed": true
   },
   "outputs": [],
   "source": [
    "def hyperopt_search(evaluation_fn,\n",
    "                    num_dims,\n",
    "                    num_iter=200):\n",
    "    space = [hp.uniform(str(idx), 0, 1) for idx in range(num_dims)]\n",
    "    X = []\n",
    "    y = []\n",
    "\n",
    "    def objective(candidate):\n",
    "        result = evaluation_fn(candidate)\n",
    "        y.append(result)\n",
    "        X.append(candidate)\n",
    "        return result\n",
    "\n",
    "    hyperopt.fmin(objective,\n",
    "                  space=space,\n",
    "                  algo=hyperopt.tpe.suggest,\n",
    "                  max_evals=num_iter)\n",
    "\n",
    "    return dict(\n",
    "        X=X,\n",
    "        y=y,\n",
    "        best=min(y),\n",
    "    )"
   ]
  },
  {
   "cell_type": "markdown",
   "metadata": {},
   "source": [
    "# Play time!"
   ]
  },
  {
   "cell_type": "code",
   "execution_count": 40,
   "metadata": {
    "collapsed": false
   },
   "outputs": [],
   "source": [
    "extra_trees_search = partial(\n",
    "    discriminative_smbo,\n",
    "    discriminative_model_fn=extra_trees_fn,\n",
    "    model_score_fn=maximum_uncertainty,\n",
    "    generator_fn=random_generator,\n",
    ")\n",
    "gaussian_process_search = partial(\n",
    "    discriminative_smbo,\n",
    "    discriminative_model_fn=gaussian_process_fn,\n",
    "    model_score_fn=expected_improvement_3,\n",
    "    generator_fn=random_generator,\n",
    ")"
   ]
  },
  {
   "cell_type": "code",
   "execution_count": 41,
   "metadata": {
    "collapsed": false
   },
   "outputs": [],
   "source": [
    "names_and_search_fns = [\n",
    "    (\"grid\", grid_search),\n",
    "    (\"grid_shuffle\", partial(grid_search, shuffle=True)),\n",
    "    (\"rand\", random_search),\n",
    "    (\"hyperopt\", hyperopt_search),\n",
    "    (\"xtrees\", extra_trees_search),\n",
    "    # (\"gp\", gaussian_process_search),\n",
    "]"
   ]
  },
  {
   "cell_type": "code",
   "execution_count": 42,
   "metadata": {
    "collapsed": false
   },
   "outputs": [
    {
     "name": "stdout",
     "output_type": "stream",
     "text": [
      "grid took 0.003151s\n",
      "grid_shuffle took 0.001175s\n",
      "rand took 0.003858s\n",
      "hyperopt took 1.266753s\n",
      "xtrees took 4.836565s\n"
     ]
    },
    {
     "data": {
      "image/png": "[encoded data removed]",
      "text/plain": [
       "<matplotlib.figure.Figure at 0x7ff809c19c90>"
      ]
     },
     "metadata": {},
     "output_type": "display_data"
    }
   ],
   "source": [
    "num_dims = 2\n",
    "eval_fn = branin_hoo\n",
    "\n",
    "results = []\n",
    "for name, search_fn in names_and_search_fns:\n",
    "    with timer(name):\n",
    "        res = search_fn(evaluation_fn=eval_fn, num_dims=num_dims)\n",
    "    results.append((name, res))\n",
    "\n",
    "plot_bests(results)"
   ]
  },
  {
   "cell_type": "code",
   "execution_count": 43,
   "metadata": {
    "collapsed": false
   },
   "outputs": [
    {
     "name": "stdout",
     "output_type": "stream",
     "text": [
      "grid took 0.004512s\n",
      "grid_shuffle took 0.002171s\n",
      "rand took 0.006213s\n",
      "hyperopt took 66.283209s\n",
      "xtrees took 15.152006s\n"
     ]
    },
    {
     "data": {
      "image/png": "[encoded data removed]",
      "text/plain": [
       "<matplotlib.figure.Figure at 0x7ff8095372d0>"
      ]
     },
     "metadata": {},
     "output_type": "display_data"
    }
   ],
   "source": [
    "num_dims = 100\n",
    "eval_fn = branin_hoo_with_useless_dimensions(num_dims)\n",
    "\n",
    "results = []\n",
    "for name, search_fn in names_and_search_fns:\n",
    "    with timer(name):\n",
    "        res = search_fn(evaluation_fn=eval_fn, num_dims=num_dims)\n",
    "    results.append((name, res))\n",
    "\n",
    "plot_bests(results)"
   ]
  }
 ],
 "metadata": {
  "kernelspec": {
   "display_name": "Python 2",
   "language": "python",
   "name": "python2"
  },
  "language_info": {
   "codemirror_mode": {
    "name": "ipython",
    "version": 2
   },
   "file_extension": ".py",
   "mimetype": "text/x-python",
   "name": "python",
   "nbconvert_exporter": "python",
   "pygments_lexer": "ipython2",
   "version": "2.7.9"
  }
 },
 "nbformat": 4,
 "nbformat_minor": 0
}
